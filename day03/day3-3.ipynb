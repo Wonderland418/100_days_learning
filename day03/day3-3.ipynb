{
 "cells": [
  {
   "cell_type": "code",
   "execution_count": 1,
   "metadata": {},
   "outputs": [
    {
     "name": "stdout",
     "output_type": "stream",
     "text": [
      "8\n"
     ]
    }
   ],
   "source": [
    "y = lambda x : x*2;\n",
    "print(y(int(input(\"Enter a number: \"))))\n"
   ]
  },
  {
   "cell_type": "code",
   "execution_count": 15,
   "metadata": {},
   "outputs": [
    {
     "name": "stdout",
     "output_type": "stream",
     "text": [
      "[('Bob', 92), ('Alice', 85), ('Charlie', 78)]\n"
     ]
    }
   ],
   "source": [
    "student =[(\"Alice\", 85), (\"Bob\", 92), (\"Charlie\", 78)]\n",
    "sorted_student = sorted(student , key = lambda x : x[1], reverse = True)\n",
    "print(sorted_student)"
   ]
  },
  {
   "cell_type": "code",
   "execution_count": 19,
   "metadata": {},
   "outputs": [
    {
     "name": "stdout",
     "output_type": "stream",
     "text": [
      "學生資料：[('Bob', 92), ('Alice', 85), ('Charlie', 78)]\n",
      "全班最高分是:Bob(92分)\n"
     ]
    }
   ],
   "source": [
    "student_data = []\n",
    "for i in range(3):\n",
    "    name = input(\"請輸入姓名\")\n",
    "    grade = int(input(\"請輸入成績\"))\n",
    "    student_data.append((name,grade))\n",
    "sorted_data = sorted(student_data, key = lambda x : x[1] , reverse = True)\n",
    "max_student = max(student_data, key = lambda x : x[1])\n",
    "print(f\"學生資料：{sorted_data}\")\n",
    "print(f\"全班最高分是:{max_student[0]}({max_student[1]}分)\")"
   ]
  },
  {
   "cell_type": "code",
   "execution_count": 24,
   "metadata": {},
   "outputs": [
    {
     "name": "stdout",
     "output_type": "stream",
     "text": [
      "[6, 12, 2, 18, 4]\n"
     ]
    }
   ],
   "source": [
    "user_input = input(\"請輸入一串數字(用逗號分隔)\")\n",
    "nums = list(map(int,user_input.split(',')))\n",
    "double_nums = list(map(lambda x : x*2,nums))\n",
    "print(double_nums)"
   ]
  },
  {
   "cell_type": "code",
   "execution_count": 26,
   "metadata": {},
   "outputs": [
    {
     "name": "stdout",
     "output_type": "stream",
     "text": [
      "[16, 36]\n"
     ]
    }
   ],
   "source": [
    "user_input = input(\"請輸入一串數字(用逗號分隔)\")\n",
    "nums = list(map(int,user_input.split(',')))\n",
    "even_nums = filter(lambda x : x%2 == 0,nums)\n",
    "sqrt_nums = list(map(lambda x : x**2,even_nums))\n",
    "print(sqrt_nums)"
   ]
  },
  {
   "cell_type": "code",
   "execution_count": null,
   "metadata": {},
   "outputs": [],
   "source": []
  },
  {
   "cell_type": "code",
   "execution_count": null,
   "metadata": {},
   "outputs": [
    {
     "name": "stdout",
     "output_type": "stream",
     "text": [
      "加權平均為:81.67\n"
     ]
    }
   ],
   "source": [
    "user_input = input(\"請輸入成績與權重:\")\n",
    "user_input_split1 = list(map(str,user_input.split(' ')))\n",
    "\n",
    "\n",
    "grade = []\n",
    "for i in user_input_split1:\n",
    "    grade.append(tuple(map(int,i.split(\",\"))))\n",
    "\n",
    "total_sum = sum(map(lambda x : x[0] * x[1] , grade))\n",
    "weight_sum = sum(map(lambda x : x[1] , grade))\n",
    "mean = total_sum / weight_sum\n",
    "print(f\"加權平均為:{mean:.2f}\")"
   ]
  },
  {
   "cell_type": "code",
   "execution_count": 37,
   "metadata": {},
   "outputs": [
    {
     "name": "stdout",
     "output_type": "stream",
     "text": [
      "加權平均為:81.67\n"
     ]
    }
   ],
   "source": [
    "#使用Compherension\n",
    "\n",
    "user_input = input(\"請輸入成績與權重\")\n",
    "\n",
    "# List Compherension\n",
    "grade = [tuple(map(int,i.split(',')))for i in user_input.split(' ')]\n",
    "\n",
    "total_sum = sum(map(lambda x : x[0] * x[1] , grade))\n",
    "weight_sum = sum(map(lambda x : x[1] , grade))\n",
    "mean = total_sum / weight_sum\n",
    "print(f\"加權平均為:{mean:.2f}\")"
   ]
  },
  {
   "cell_type": "code",
   "execution_count": 47,
   "metadata": {},
   "outputs": [
    {
     "name": "stdout",
     "output_type": "stream",
     "text": [
      "Bob:92\n",
      "Alice:85\n",
      "Charlie:78\n"
     ]
    }
   ],
   "source": [
    "user_input = input()\n",
    "\n",
    "student_data = [ (str(i.split(',')[0]),int(i.split(',')[1])) for i in user_input.split(' ')]\n",
    "sorted_student_data = sorted(student_data, key = lambda x : x[1], reverse = True)\n",
    "\n",
    "for i in sorted_student_data:\n",
    "    print(f\"{i[0]}:{i[1]}\")"
   ]
  },
  {
   "cell_type": "code",
   "execution_count": null,
   "metadata": {},
   "outputs": [
    {
     "name": "stdout",
     "output_type": "stream",
     "text": [
      "A等級有:2人\n",
      "B等級有:1人\n",
      "C等級有:1人\n",
      "D等級有:1人\n",
      "F等級有:2人\n"
     ]
    }
   ],
   "source": [
    "import math\n",
    "from math import floor\n",
    "grades = [int(i) for i in input().split(',')]\n",
    "for i in [('A',10,8),('B',8,7),('C',7,6),('D',6,5),('F',5,-1)]:\n",
    "    print(f\"{i[0]}等級有:{len(list(filter(lambda x : (i[1] >=A floor(x/10) > i[2]), grades)))}人\")"
   ]
  },
  {
   "cell_type": "code",
   "execution_count": 65,
   "metadata": {},
   "outputs": [
    {
     "name": "stdout",
     "output_type": "stream",
     "text": [
      "Alice:90\n",
      "Charlie:90\n",
      "Bob:85\n",
      "David:75\n"
     ]
    }
   ],
   "source": [
    "student = [(i.split(',')[0],int(i.split(',')[1])) for i in input(\"請輸入成績\").split(' ')]\n",
    "sorted_student = sorted(student, key =  lambda x:(-x[1],x[0]))\n",
    "for i in sorted_student:\n",
    "    print(f\"{i[0]}:{i[1]}\")"
   ]
  },
  {
   "cell_type": "code",
   "execution_count": 66,
   "metadata": {},
   "outputs": [
    {
     "name": "stdout",
     "output_type": "stream",
     "text": [
      "ALICE:B\n",
      "BOB:C\n",
      "CHARLIE:F\n"
     ]
    }
   ],
   "source": [
    "import math\n",
    "from math import floor\n",
    "data = [(i.split(',')[0].upper(),floor(int(i.split(',')[1])/10)) for i in input(\"請依照「名字,成績」輸入，每組資料請用空格隔開\").split(' ')]\n",
    "for i in data:\n",
    "    match i[1]:\n",
    "        case 10|9:\n",
    "            level = 'A'\n",
    "        case 8:\n",
    "            level = 'B'\n",
    "        case 7:\n",
    "            level = 'C'\n",
    "        case 6:\n",
    "            level = 'D'\n",
    "        case 5|4|3|2|1|0:\n",
    "            level = 'F'\n",
    "    print(f\"{i[0]}:{level}\")"
   ]
  }
 ],
 "metadata": {
  "kernelspec": {
   "display_name": "Python 3",
   "language": "python",
   "name": "python3"
  },
  "language_info": {
   "codemirror_mode": {
    "name": "ipython",
    "version": 3
   },
   "file_extension": ".py",
   "mimetype": "text/x-python",
   "name": "python",
   "nbconvert_exporter": "python",
   "pygments_lexer": "ipython3",
   "version": "3.10.4"
  }
 },
 "nbformat": 4,
 "nbformat_minor": 2
}
